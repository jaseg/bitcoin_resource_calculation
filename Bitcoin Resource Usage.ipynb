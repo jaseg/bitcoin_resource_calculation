{
 "cells": [
  {
   "cell_type": "code",
   "execution_count": 5,
   "metadata": {
    "collapsed": false
   },
   "outputs": [],
   "source": [
    "import requests\n",
    "import csv\n",
    "import statistics\n",
    "import time\n",
    "\n",
    "res = requests.get(\"https://api.blockchain.info/charts/hash-rate?cors=true&format=csv&lang=de\").text\n",
    "lines = list(csv.reader(res.splitlines()))\n",
    "\n",
    "# Average over the last 60 days and convert from THash/s to Hash/s\n",
    "hashrate_60d_avg = statistics.mean(float(rate_s)*10e12 for _, rate_s in lines[-60:]) # Hash/s"
   ]
  },
  {
   "cell_type": "markdown",
   "metadata": {},
   "source": [
    "* https://en.bitcoin.it/wiki/Mining_hardware_comparison#cite_note-AntMinerS9-9\n",
    "* https://www.bitmaintech.com/productDetail.htm?pid=0002016052907243375530DcJIoK0654\n",
    "* https://blockchain.info/api/blockchain_api"
   ]
  },
  {
   "cell_type": "code",
   "execution_count": 6,
   "metadata": {
    "collapsed": false
   },
   "outputs": [
    {
     "name": "stdout",
     "output_type": "stream",
     "text": [
      "Total network power consumption (estimated lower bound): 1756.567393097864 MW\n"
     ]
    }
   ],
   "source": [
    "\n",
    "# Very optimistic lower bound, ignoring older hardware, cooling etc. pp.\n",
    "power_consumption = 0.098e-9 # J/Hash\n",
    "\n",
    "# 1J = 1Ws → Hash/s * J/Hash = J/s = Ws/s = W\n",
    "network_power_consumption = hashrate_60d_avg * power_consumption # W\n",
    "\n",
    "print('Total network power consumption (estimated lower bound):', network_power_consumption*1e-6, 'MW')"
   ]
  },
  {
   "cell_type": "code",
   "execution_count": 7,
   "metadata": {
    "collapsed": false,
    "scrolled": true
   },
   "outputs": [],
   "source": [
    "# Fetch blockchain.info data on the last [n] blocks\n",
    "import sqlite3\n",
    "\n",
    "db = sqlite3.connect('blockinfo.db')\n",
    "db.execute('CREATE TABLE IF NOT EXISTS blockinfo (idx INTEGER, info TEXT)')\n",
    "\n",
    "def fetch_blocks(n=100): # approx. 1k blocks in 7d\n",
    "    latest = requests.get('https://blockchain.info/latestblock').json()['block_index']\n",
    "    with db as conn:\n",
    "        for idx in range(latest, latest-n, -1):\n",
    "            if conn.execute('SELECT count(1) FROM blockinfo WHERE idx=?', (idx,)).fetchone()[0] == 0:\n",
    "                print('fetching:', idx, flush=True)\n",
    "                time.sleep(1)\n",
    "                info = requests.get('https://blockchain.info/block-index/{}?format=json'.format(idx)).text\n",
    "                conn.execute('INSERT INTO blockinfo VALUES (?, ?)', (idx, info))\n",
    "#            else:\n",
    "#                print('skipping:', idx, flush=True)\n",
    "    print('done.')\n",
    "\n",
    "def blocks(lower, upper, conn=db):\n",
    "    for idx, in conn.execute('SELECT idx FROM blockinfo WHERE idx BETWEEN ? AND ? ORDER BY idx', (lower, upper)):\n",
    "        yield json.loads(conn.execute('SELECT info FROM blockinfo WHERE idx=?', (idx,)).fetchone()[0])"
   ]
  },
  {
   "cell_type": "code",
   "execution_count": 8,
   "metadata": {
    "collapsed": false,
    "scrolled": true
   },
   "outputs": [],
   "source": [
    "#fetch_blocks(1000)"
   ]
  },
  {
   "cell_type": "code",
   "execution_count": 9,
   "metadata": {
    "collapsed": false
   },
   "outputs": [
    {
     "data": {
      "text/plain": [
       "2.823744356770102"
      ]
     },
     "execution_count": 9,
     "metadata": {},
     "output_type": "execute_result"
    }
   ],
   "source": [
    "import json\n",
    "import statistics\n",
    "def avg_tx_last_n(n=1000):\n",
    "    with db as conn:\n",
    "        last_idx = db.execute('SELECT MAX(idx) FROM blockinfo').fetchone()[0]\n",
    "        data = [\n",
    "            (len(b['tx']), b['time']) for b in blocks(last_idx-n, last_idx, conn)\n",
    "        ]\n",
    "        avg_tx_per_block = statistics.mean(ntx for ntx, time in data)\n",
    "        avg_seconds_per_block = (data[-1][1] - data[0][1])/n\n",
    "    avg_tx_per_second = avg_tx_per_block / avg_seconds_per_block\n",
    "    return avg_tx_per_second\n",
    "\n",
    "avg_tx_last_1000 = avg_tx_last_n(n=1000)\n",
    "avg_tx_last_1000"
   ]
  },
  {
   "cell_type": "code",
   "execution_count": 10,
   "metadata": {
    "collapsed": false,
    "scrolled": true
   },
   "outputs": [
    {
     "name": "stdout",
     "output_type": "stream",
     "text": [
      "Total network energy consumption per transaction (estimated lower bound): 622.0702624465223 MJ\n"
     ]
    }
   ],
   "source": [
    "energy_per_tx = network_power_consumption * 1 / avg_tx_last_1000 # J\n",
    "print('Total network energy consumption per transaction (estimated lower bound):', energy_per_tx*1e-6, 'MJ')"
   ]
  },
  {
   "cell_type": "code",
   "execution_count": 11,
   "metadata": {
    "collapsed": false
   },
   "outputs": [
    {
     "name": "stdout",
     "output_type": "stream",
     "text": [
      "Days an adult male could be nourished from the energy a single transaction consumes (approximated, dependent on person): 57.15602838718047\n"
     ]
    }
   ],
   "source": [
    "kcal_per_day_adult_male = 2600\n",
    "J_per_day_adult_male = 180/43 * 1000 * kcal_per_day_adult_male\n",
    "adult_males_nourished_1d_per_tx = energy_per_tx/J_per_day_adult_male\n",
    "print('Days an adult male could be nourished from the energy a single transaction consumes (approximated, dependent on person):', adult_males_nourished_1d_per_tx)"
   ]
  },
  {
   "cell_type": "markdown",
   "metadata": {},
   "source": [
    "* https://en.wikipedia.org/wiki/Calorie\n",
    "* https://en.wikipedia.org/wiki/Food_energy "
   ]
  },
  {
   "cell_type": "code",
   "execution_count": 12,
   "metadata": {
    "collapsed": true
   },
   "outputs": [],
   "source": [
    "bn_info = requests.get('https://bitnodes.21.co/api/v1/snapshots/latest/').json()"
   ]
  },
  {
   "cell_type": "code",
   "execution_count": 31,
   "metadata": {
    "collapsed": false
   },
   "outputs": [
    {
     "name": "stdout",
     "output_type": "stream",
     "text": [
      "[('US', 0.26956361627692876), ('DE', 0.17142331062419444), ('FR', 0.08322592524396981), ('NL', 0.056711471183944026), ('CA', 0.04419075676670963), ('GB', 0.04363837230712576), ('CN', 0.03387958018781072), (None, 0.033511323881421466), ('RU', 0.027435094825998894), ('SE', 0.017308046400294604)] 0.7808874976983979\n"
     ]
    }
   ],
   "source": [
    "import collections\n",
    "countries = collections.Counter()\n",
    "total_nodes = bn_info['total_nodes']\n",
    "for pver, uagent, conntime, svcs, height, host, city, country, lat, lon, tz, asn, org in bn_info['nodes'].values():\n",
    "    countries[country] += 1\n",
    "country_fractions = [ (country, count/total_nodes) for country, count in countries.most_common() ]\n",
    "cf_idx = 10\n",
    "print(country_fractions[:cf_idx], sum(frac for country, frac in country_fractions[:cf_idx]))"
   ]
  },
  {
   "cell_type": "markdown",
   "metadata": {},
   "source": [
    "* https://bitnodes.21.co/api/"
   ]
  },
  {
   "cell_type": "code",
   "execution_count": 14,
   "metadata": {
    "collapsed": false
   },
   "outputs": [],
   "source": [
    "import csv\n",
    "\n",
    "iso_3166_data = requests.get('http://www.iso.org/iso/home/standards/country_codes/country_names_and_code_elements_txt-temp.htm')\n",
    "iso_3166_data = iso_3166_data.text.splitlines()[1:-1]\n",
    "iso_3166_1_alpha_2_to_name = {\n",
    "    cc.lower(): name.lower() for name, cc in ( line.split(';') for line in iso_3166_data )\n",
    "}"
   ]
  },
  {
   "cell_type": "markdown",
   "metadata": {},
   "source": [
    "* https://en.wikipedia.org/wiki/ISO_3166-1_alpha-2"
   ]
  },
  {
   "cell_type": "code",
   "execution_count": 58,
   "metadata": {
    "collapsed": false
   },
   "outputs": [],
   "source": [
    "from bs4 import BeautifulSoup\n",
    "\n",
    "#energy_by_coutry_xls = requests.get('http://www.iea.org/media/statistics/surveys/electricity/mes.xls').content\n",
    "energy_by_coutry_table = requests.get('http://wdi.worldbank.org/AjaxDownload/FileDownloadHandler.ashx?filename=3.7_Electricity_production_sources_and_access.xls&filetype=excel').content\n",
    "# don't ask why, but the above link actually returns readable html. And who am I to complain that I get HTML to parse instead of an Excel file? =)\n",
    "soup = BeautifulSoup(energy_by_coutry_table, 'lxml')\n",
    "tbody = soup.find('tbody') # data table body\n",
    "energy_by_country = {\n",
    "    cname.text.lower(): [ float(col.text.replace(',', ''))/100 if col.text != '..' else None for col in numbers ]\n",
    "            for cname, *numbers in ( row.find_all('td') for row in tbody.find_all('tr') )\n",
    "}"
   ]
  },
  {
   "cell_type": "markdown",
   "metadata": {},
   "source": [
    "* http://wdi.worldbank.org/table/3.7#"
   ]
  },
  {
   "cell_type": "code",
   "execution_count": 78,
   "metadata": {
    "collapsed": false
   },
   "outputs": [],
   "source": [
    "import numpy as np\n",
    "from IPython.display import display, HTML\n",
    "\n",
    "fracs = np.zeros(6, dtype=np.float) # coal, gas, oil, hydro, renewable, nuclear\n",
    "accounted_total = 0\n",
    "for cc, frac_total in country_fractions:\n",
    "    if cc is None:\n",
    "        break\n",
    "    twh_total, *cfracs, access = energy_by_country[iso_3166_1_alpha_2_to_name[cc.lower()]]\n",
    "    accounted_total += frac_total\n",
    "    fracs += np.array(cfracs)*frac_total\n",
    "fracs /= accounted_total"
   ]
  },
  {
   "cell_type": "code",
   "execution_count": 79,
   "metadata": {
    "collapsed": false
   },
   "outputs": [
    {
     "data": {
      "text/html": [
       "<table><tr><th>Total</th><th>Coal</th><th>Gas</th><th>Oil</th><th>Hyrdo</th><th>Renewable</th><th>Nuclear</th></tr><tr><td>70.26</td><td>36.01</td><td>20.21</td><td>0.88</td><td>9.47</td><td>10.15</td><td>22.55</td></tr></table>"
      ],
      "text/plain": [
       "<IPython.core.display.HTML object>"
      ]
     },
     "metadata": {},
     "output_type": "display_data"
    }
   ],
   "source": [
    "display(HTML('<table><tr><th>Total</th><th>Coal</th><th>Gas</th><th>Oil</th><th>Hyrdo</th><th>Renewable</th><th>Nuclear</th></tr>'\n",
    "        '<tr><td>{:.02f}</td><td>'.format(accounted_total*100) +\\\n",
    "        '</td><td>'.join('{:.02f}'.format(x*100) for x in fracs) + '</td></tr></table>'))"
   ]
  }
 ],
 "metadata": {
  "kernelspec": {
   "display_name": "Python 3",
   "language": "python",
   "name": "python3"
  },
  "language_info": {
   "codemirror_mode": {
    "name": "ipython",
    "version": 3
   },
   "file_extension": ".py",
   "mimetype": "text/x-python",
   "name": "python",
   "nbconvert_exporter": "python",
   "pygments_lexer": "ipython3",
   "version": "3.4.3"
  }
 },
 "nbformat": 4,
 "nbformat_minor": 0
}
