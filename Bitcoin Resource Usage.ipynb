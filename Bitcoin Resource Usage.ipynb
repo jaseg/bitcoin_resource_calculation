{
 "cells": [
  {
   "cell_type": "code",
   "execution_count": 128,
   "metadata": {
    "collapsed": false
   },
   "outputs": [],
   "source": [
    "import requests\n",
    "import csv\n",
    "import statistics\n",
    "import time\n",
    "\n",
    "res = requests.get(\"https://api.blockchain.info/charts/hash-rate?cors=true&format=csv&lang=de\").text\n",
    "lines = list(csv.reader(res.splitlines()))\n",
    "\n",
    "# Average over the last 60 days and convert from THash/s to Hash/s\n",
    "hashrate_60d_avg = statistics.mean(float(rate_s)*1e12 for _, rate_s in lines[-60:]) # Hash/s"
   ]
  },
  {
   "cell_type": "markdown",
   "metadata": {},
   "source": [
    "* https://en.bitcoin.it/wiki/Mining_hardware_comparison#cite_note-AntMinerS9-9\n",
    "* https://www.bitmaintech.com/productDetail.htm?pid=0002016052907243375530DcJIoK0654\n",
    "* https://blockchain.info/api/blockchain_api"
   ]
  },
  {
   "cell_type": "code",
   "execution_count": 129,
   "metadata": {
    "collapsed": false
   },
   "outputs": [
    {
     "name": "stdout",
     "output_type": "stream",
     "text": [
      "Total network power consumption (estimated lower bound): 175.6567393097864 MW\n"
     ]
    }
   ],
   "source": [
    "\n",
    "# Very optimistic lower bound, ignoring older hardware, cooling etc. pp.\n",
    "power_consumption = 0.098e-9 # J/Hash\n",
    "\n",
    "# 1J = 1Ws → Hash/s * J/Hash = J/s = Ws/s = W\n",
    "network_power_consumption = hashrate_60d_avg * power_consumption # W\n",
    "\n",
    "print('Total network power consumption (estimated lower bound):', network_power_consumption*1e-6, 'MW')"
   ]
  },
  {
   "cell_type": "code",
   "execution_count": 130,
   "metadata": {
    "collapsed": false,
    "scrolled": true
   },
   "outputs": [],
   "source": [
    "# Fetch blockchain.info data on the last [n] blocks\n",
    "import sqlite3\n",
    "\n",
    "db = sqlite3.connect('blockinfo.db')\n",
    "db.execute('CREATE TABLE IF NOT EXISTS blockinfo (idx INTEGER, info TEXT)')\n",
    "\n",
    "def fetch_blocks(n=100): # approx. 1k blocks in 7d\n",
    "    latest = requests.get('https://blockchain.info/latestblock').json()['block_index']\n",
    "    with db as conn:\n",
    "        for idx in range(latest, latest-n, -1):\n",
    "            if conn.execute('SELECT count(1) FROM blockinfo WHERE idx=?', (idx,)).fetchone()[0] == 0:\n",
    "                print('fetching:', idx, flush=True)\n",
    "                time.sleep(1)\n",
    "                info = requests.get('https://blockchain.info/block-index/{}?format=json'.format(idx)).text\n",
    "                conn.execute('INSERT INTO blockinfo VALUES (?, ?)', (idx, info))\n",
    "#            else:\n",
    "#                print('skipping:', idx, flush=True)\n",
    "    print('done.')\n",
    "\n",
    "def blocks(lower, upper, conn=db):\n",
    "    for idx, in conn.execute('SELECT idx FROM blockinfo WHERE idx BETWEEN ? AND ? ORDER BY idx', (lower, upper)):\n",
    "        yield json.loads(conn.execute('SELECT info FROM blockinfo WHERE idx=?', (idx,)).fetchone()[0])"
   ]
  },
  {
   "cell_type": "code",
   "execution_count": 131,
   "metadata": {
    "collapsed": false,
    "scrolled": true
   },
   "outputs": [],
   "source": [
    "#fetch_blocks(1000)"
   ]
  },
  {
   "cell_type": "code",
   "execution_count": 132,
   "metadata": {
    "collapsed": false
   },
   "outputs": [
    {
     "data": {
      "text/plain": [
       "2.823744356770102"
      ]
     },
     "execution_count": 132,
     "metadata": {},
     "output_type": "execute_result"
    }
   ],
   "source": [
    "import json\n",
    "import statistics\n",
    "def avg_tx_last_n(n=1000):\n",
    "    with db as conn:\n",
    "        last_idx = db.execute('SELECT MAX(idx) FROM blockinfo').fetchone()[0]\n",
    "        data = [\n",
    "            (len(b['tx']), b['time']) for b in blocks(last_idx-n, last_idx, conn)\n",
    "        ]\n",
    "        avg_tx_per_block = statistics.mean(ntx for ntx, time in data)\n",
    "        avg_seconds_per_block = (data[-1][1] - data[0][1])/n\n",
    "    avg_tx_per_second = avg_tx_per_block / avg_seconds_per_block\n",
    "    return avg_tx_per_second\n",
    "\n",
    "avg_tx_last_1000 = avg_tx_last_n(n=1000)\n",
    "avg_tx_last_1000"
   ]
  },
  {
   "cell_type": "code",
   "execution_count": 160,
   "metadata": {
    "collapsed": false,
    "scrolled": true
   },
   "outputs": [
    {
     "name": "stdout",
     "output_type": "stream",
     "text": [
      "Total network energy consumption per transaction (estimated lower bound): 62.21 MJ = 17.28 kWh\n"
     ]
    }
   ],
   "source": [
    "energy_per_tx = network_power_consumption * 1 / avg_tx_last_1000 # J\n",
    "kwh_per_tx = energy_per_tx / 1000 / 3600 # Ws → Wh, Wh → kWh\n",
    "print('Total network energy consumption per transaction (estimated lower bound): {:.02f} MJ = {:.02f} kWh'.format(\n",
    "        energy_per_tx*1e-6, kwh_per_tx))"
   ]
  },
  {
   "cell_type": "code",
   "execution_count": 134,
   "metadata": {
    "collapsed": false
   },
   "outputs": [
    {
     "name": "stdout",
     "output_type": "stream",
     "text": [
      "Days an adult male could be nourished from the energy a single transaction consumes (approximated, dependent on person): 5.715602838718048\n"
     ]
    }
   ],
   "source": [
    "kcal_per_day_adult_male = 2600\n",
    "J_per_day_adult_male = 180/43 * 1000 * kcal_per_day_adult_male\n",
    "adult_males_nourished_1d_per_tx = energy_per_tx/J_per_day_adult_male\n",
    "print('Days an adult male could be nourished from the energy a single transaction consumes (approximated, dependent on person):', adult_males_nourished_1d_per_tx)"
   ]
  },
  {
   "cell_type": "markdown",
   "metadata": {},
   "source": [
    "* https://en.wikipedia.org/wiki/Calorie\n",
    "* https://en.wikipedia.org/wiki/Food_energy "
   ]
  },
  {
   "cell_type": "code",
   "execution_count": 135,
   "metadata": {
    "collapsed": true
   },
   "outputs": [],
   "source": [
    "bn_info = requests.get('https://bitnodes.21.co/api/v1/snapshots/latest/').json()"
   ]
  },
  {
   "cell_type": "code",
   "execution_count": 136,
   "metadata": {
    "collapsed": false
   },
   "outputs": [
    {
     "name": "stdout",
     "output_type": "stream",
     "text": [
      "[('US', 0.27739352020385877), ('DE', 0.17109574080815435), ('FR', 0.08336366945759009), ('NL', 0.056607207863123406), ('CA', 0.04423006916636331), ('GB', 0.04095376774663269), ('CN', 0.03312704768838733), (None, 0.032945030942846745), ('RU', 0.02639242810338551), ('SE', 0.016745540589734254)] 0.7828540225700765\n"
     ]
    }
   ],
   "source": [
    "import collections\n",
    "countries = collections.Counter()\n",
    "total_nodes = bn_info['total_nodes']\n",
    "for pver, uagent, conntime, svcs, height, host, city, country, lat, lon, tz, asn, org in bn_info['nodes'].values():\n",
    "    countries[country] += 1\n",
    "country_fractions = [ (country, count/total_nodes) for country, count in countries.most_common() ]\n",
    "cf_idx = 10\n",
    "print(country_fractions[:cf_idx], sum(frac for country, frac in country_fractions[:cf_idx]))"
   ]
  },
  {
   "cell_type": "markdown",
   "metadata": {},
   "source": [
    "* https://bitnodes.21.co/api/"
   ]
  },
  {
   "cell_type": "code",
   "execution_count": 137,
   "metadata": {
    "collapsed": false
   },
   "outputs": [],
   "source": [
    "import csv\n",
    "\n",
    "iso_3166_data = requests.get('http://www.iso.org/iso/home/standards/country_codes/country_names_and_code_elements_txt-temp.htm')\n",
    "iso_3166_data = iso_3166_data.text.splitlines()[1:-1]\n",
    "iso_3166_1_alpha_2_to_name = {\n",
    "    cc.lower(): name.lower() for name, cc in ( line.split(';') for line in iso_3166_data )\n",
    "}"
   ]
  },
  {
   "cell_type": "markdown",
   "metadata": {},
   "source": [
    "* https://en.wikipedia.org/wiki/ISO_3166-1_alpha-2"
   ]
  },
  {
   "cell_type": "code",
   "execution_count": 138,
   "metadata": {
    "collapsed": false
   },
   "outputs": [],
   "source": [
    "from bs4 import BeautifulSoup\n",
    "\n",
    "#energy_by_coutry_xls = requests.get('http://www.iea.org/media/statistics/surveys/electricity/mes.xls').content\n",
    "energy_by_coutry_table = requests.get('http://wdi.worldbank.org/AjaxDownload/FileDownloadHandler.ashx?filename=3.7_Electricity_production_sources_and_access.xls&filetype=excel').content\n",
    "# don't ask why, but the above link actually returns readable html. And who am I to complain that I get HTML to parse instead of an Excel file? =)\n",
    "soup = BeautifulSoup(energy_by_coutry_table, 'lxml')\n",
    "tbody = soup.find('tbody') # data table body\n",
    "energy_by_country = {\n",
    "    cname.text.lower(): [ float(col.text.replace(',', ''))/100 if col.text != '..' else None for col in numbers ]\n",
    "            for cname, *numbers in ( row.find_all('td') for row in tbody.find_all('tr') )\n",
    "}"
   ]
  },
  {
   "cell_type": "markdown",
   "metadata": {},
   "source": [
    "* http://wdi.worldbank.org/table/3.7#"
   ]
  },
  {
   "cell_type": "code",
   "execution_count": 139,
   "metadata": {
    "collapsed": false
   },
   "outputs": [],
   "source": [
    "import numpy as np\n",
    "from IPython.display import display, HTML\n",
    "\n",
    "fracs = np.zeros(6, dtype=np.float) # coal, gas, oil, hydro, renewable, nuclear\n",
    "accounted_total = 0\n",
    "for cc, frac_total in country_fractions:\n",
    "    if cc is None:\n",
    "        break\n",
    "    twh_total, *cfracs, access = energy_by_country[iso_3166_1_alpha_2_to_name[cc.lower()]]\n",
    "    accounted_total += frac_total\n",
    "    fracs += np.array(cfracs)*frac_total\n",
    "fracs /= accounted_total"
   ]
  },
  {
   "cell_type": "code",
   "execution_count": 140,
   "metadata": {
    "collapsed": false
   },
   "outputs": [
    {
     "data": {
      "text/html": [
       "<table><tr><th>Network proportion taken into consideration</th><th>Coal</th><th>Gas</th><th>Oil</th><th>Hydro</th><th>Renewable</th><th>Nuclear</th></tr><tr><td>70.68%</td><td>36.00%</td><td>20.28%</td><td>0.88%</td><td>9.46%</td><td>10.09%</td><td>22.57%</td></tr></table>"
      ],
      "text/plain": [
       "<IPython.core.display.HTML object>"
      ]
     },
     "metadata": {},
     "output_type": "display_data"
    }
   ],
   "source": [
    "display(HTML('<table><tr><th>Network proportion taken into consideration</th><th>Coal</th><th>Gas</th><th>Oil</th><th>Hydro</th><th>Renewable</th><th>Nuclear</th></tr>'\n",
    "        '<tr><td>{:.02f}%</td><td>'.format(accounted_total*100) +\\\n",
    "        '</td><td>'.join('{:.02f}%'.format(x*100) for x in fracs) + '</td></tr></table>'))"
   ]
  },
  {
   "cell_type": "code",
   "execution_count": 152,
   "metadata": {
    "collapsed": true
   },
   "outputs": [],
   "source": [
    "coal_kg_per_kwh = 1.04 * 0.45359237 # kg\n",
    "gas_l_per_kwh = 0.01011 * 28.316846592 # l\n",
    "oil_l_per_kwh = 0.00173 * 119.240471196 # l\n",
    "uranium_g_per_kwh = 1/50 /24 *1e-3"
   ]
  },
  {
   "cell_type": "markdown",
   "metadata": {},
   "source": [
    "* https://www.eia.gov/tools/faqs/faq.cfm?id=667&t=3\n",
    "* https://en.wikipedia.org/wiki/United_States_customary_units#Fluid_volume\n",
    "* https://en.wikipedia.org/wiki/Cubic_foot\n",
    "* https://en.wikipedia.org/wiki/Pound_(mass)\n",
    "* http://www.eea.europa.eu/data-and-maps/indicators/nuclear-energy-and-waste-production/nuclear-energy-and-waste-production-3"
   ]
  },
  {
   "cell_type": "code",
   "execution_count": 142,
   "metadata": {
    "collapsed": true
   },
   "outputs": [],
   "source": [
    "# g/GJ: CO2, SO2, NOX, CO, particulate matter\n",
    "pollutants_coal = np.array([94600, 765, 292, 89.1, 1203])\n",
    "pollutants_oil = np.array([77400, 1350, 195, 15.7, 16])\n",
    "pollutants_gas = np.array([56100, 0.68, 93.3, 14.5, 0.1])"
   ]
  },
  {
   "cell_type": "markdown",
   "metadata": {},
   "source": [
    "* https://en.wikipedia.org/wiki/Fossil-fuel_power_station#Environmental_impacts"
   ]
  },
  {
   "cell_type": "code",
   "execution_count": 161,
   "metadata": {
    "collapsed": false
   },
   "outputs": [
    {
     "data": {
      "text/html": [
       "<h3>Values per transaction</h3>"
      ],
      "text/plain": [
       "<IPython.core.display.HTML object>"
      ]
     },
     "metadata": {},
     "output_type": "display_data"
    },
    {
     "data": {
      "text/html": [
       "\n",
       "<table><tr><th colspan=2>Coal</th><th colspan=2>Gas</th><th colspan=2>Oil</th><th colspan=2>Nuclear</th><th>Hydro</th><th>Renewable</th></tr>\n",
       "<tr><th>kWh</th><th>kg</th><th>kWh</th><th>l</th><th>kWh</th><th>l</th><th>kWh</th><th>ug Uranium</th><th>kWh</th><th>kWh</th></tr>\n",
       "<tr><td>6.22</td><td>2.93</td>\n",
       "<td>3.50</td><td>1.00</td>\n",
       "<td>0.15</td><td>0.03</td>\n",
       "<td>3.90</td><td>3.25</td>\n",
       "<td>1.74</td>\n",
       "<td>1.64</td>\n",
       "</tr></table>\n"
      ],
      "text/plain": [
       "<IPython.core.display.HTML object>"
      ]
     },
     "metadata": {},
     "output_type": "display_data"
    },
    {
     "data": {
      "text/html": [
       "\n",
       "<table><tr><th>CO_2</th><th>SO_2</th><th>NO_x</th><th>CO</th><th>Particulate matter</th></tr>\n",
       "<tr><td>2.87kg</td>\n",
       "<td>17.88g</td>\n",
       "<td>7.82g</td>\n",
       "<td>2.19g</td>\n",
       "<td>26.95g</td>\n",
       "</tr></table>\n"
      ],
      "text/plain": [
       "<IPython.core.display.HTML object>"
      ]
     },
     "metadata": {},
     "output_type": "display_data"
    },
    {
     "data": {
      "text/html": [
       "<h3>Values per hour</h3>"
      ],
      "text/plain": [
       "<IPython.core.display.HTML object>"
      ]
     },
     "metadata": {},
     "output_type": "display_data"
    },
    {
     "data": {
      "text/html": [
       "\n",
       "<table><tr><th colspan=2>Coal</th><th colspan=2>Gas</th><th colspan=2>Oil</th><th colspan=2>Nuclear</th><th>Hydro</th><th>Renewable</th></tr>\n",
       "<tr><th>MWh</th><th>t</th><th>MWh</th><th>m^3</th><th>MWh</th><th>hl</th><th>MWh</th><th>mg Uranium</th><th>MWh</th><th>MWh</th></tr>\n",
       "<tr><td>63.23</td><td>29.83</td>\n",
       "<td>35.62</td><td>10.20</td>\n",
       "<td>1.54</td><td>3.18</td>\n",
       "<td>39.64</td><td>330.32</td>\n",
       "<td>17.73</td>\n",
       "<td>16.62</td>\n",
       "</tr></table>\n"
      ],
      "text/plain": [
       "<IPython.core.display.HTML object>"
      ]
     },
     "metadata": {},
     "output_type": "display_data"
    },
    {
     "data": {
      "text/html": [
       "\n",
       "<table><tr><th>CO_2</th><th>SO_2</th><th>NO_x</th><th>CO</th><th>Particulate matter</th></tr>\n",
       "<tr><td>29.16t</td>\n",
       "<td>181.72kg</td>\n",
       "<td>79.52kg</td>\n",
       "<td>22.23kg</td>\n",
       "<td>273.96kg</td>\n",
       "</tr></table>\n"
      ],
      "text/plain": [
       "<IPython.core.display.HTML object>"
      ]
     },
     "metadata": {},
     "output_type": "display_data"
    },
    {
     "data": {
      "text/html": [
       "<h3>Values per year</h3>"
      ],
      "text/plain": [
       "<IPython.core.display.HTML object>"
      ]
     },
     "metadata": {},
     "output_type": "display_data"
    },
    {
     "data": {
      "text/html": [
       "\n",
       "<table><tr><th colspan=2>Coal</th><th colspan=2>Gas</th><th colspan=2>Oil</th><th colspan=2>Nuclear</th><th>Hydro</th><th>Renewable</th></tr>\n",
       "<tr><th>GWh</th><th>Mt</th><th>GWh</th><th>10^3 m^3</th><th>GWh</th><th>10^6 l</th><th>GWh</th><th>g Uranium</th><th>GWh</th><th>GWh</th></tr>\n",
       "<tr><td>554.31</td><td>261.49</td>\n",
       "<td>312.22</td><td>89.38</td>\n",
       "<td>13.51</td><td>2.79</td>\n",
       "<td>347.47</td><td>289.55</td>\n",
       "<td>155.44</td>\n",
       "<td>145.71</td>\n",
       "</tr></table>\n"
      ],
      "text/plain": [
       "<IPython.core.display.HTML object>"
      ]
     },
     "metadata": {},
     "output_type": "display_data"
    },
    {
     "data": {
      "text/html": [
       "\n",
       "<table><tr><th>CO_2</th><th>SO_2</th><th>NO_x</th><th>CO</th><th>Particulate matter</th></tr>\n",
       "<tr><td>255.60kt</td>\n",
       "<td>1.59kt</td>\n",
       "<td>697.04t</td>\n",
       "<td>194.86t</td>\n",
       "<td>2.40kt</td>\n",
       "</tr></table>\n"
      ],
      "text/plain": [
       "<IPython.core.display.HTML object>"
      ]
     },
     "metadata": {},
     "output_type": "display_data"
    }
   ],
   "source": [
    "def res_table_template(units, wh_prefix, wh_vals, x_values):\n",
    "    u_coal, u_gas, u_oil, u_nuclear = units\n",
    "    wh_coal, wh_gas, wh_oil, wh_hydro, wh_renewable, wh_nuclear = wh_vals\n",
    "    x_coal, x_gas, x_oil, x_nuclear = x_values\n",
    "    wh = wh_prefix+'Wh'\n",
    "    display(HTML('''\n",
    "<table><tr><th colspan=2>Coal</th><th colspan=2>Gas</th><th colspan=2>Oil</th><th colspan=2>Nuclear</th><th>Hydro</th><th>Renewable</th></tr>\n",
    "<tr><th>{wh}</th><th>{u_coal}</th><th>{wh}</th><th>{u_gas}</th><th>{wh}</th><th>{u_oil}</th><th>{wh}</th><th>{u_nuclear} Uranium</th><th>{wh}</th><th>{wh}</th></tr>\n",
    "<tr><td>{wh_coal:.02f}</td><td>{x_coal:.02f}</td>\n",
    "<td>{wh_gas:.02f}</td><td>{x_gas:.02f}</td>\n",
    "<td>{wh_oil:.02f}</td><td>{x_oil:.02f}</td>\n",
    "<td>{wh_nuclear:.02f}</td><td>{x_nuclear:.02f}</td>\n",
    "<td>{wh_renewable:.02f}</td>\n",
    "<td>{wh_hydro:.02f}</td>\n",
    "</tr></table>\n",
    "'''.format(**locals())))\n",
    "    \n",
    "def pollutant_table_template(units, amounts):\n",
    "    u_co2, u_so2, u_nox, u_co, u_part = units\n",
    "    x_co2, x_so2, x_nox, x_co, x_part = amounts\n",
    "    display(HTML('''\n",
    "<table><tr><th>CO_2</th><th>SO_2</th><th>NO_x</th><th>CO</th><th>Particulate matter</th></tr>\n",
    "<tr><td>{x_co2:.02f}{u_co2}</td>\n",
    "<td>{x_so2:.02f}{u_so2}</td>\n",
    "<td>{x_nox:.02f}{u_nox}</td>\n",
    "<td>{x_co:.02f}{u_co}</td>\n",
    "<td>{x_part:.02f}{u_part}</td>\n",
    "</tr></table>\n",
    "'''.format(**locals())))\n",
    "\n",
    "total_pollutants = (pollutants_coal*fracs[0] + pollutants_gas*fracs[1] + pollutants_oil*fracs[2])*1e-3 # kg/GJ\n",
    "\n",
    "pollutants_per_tx = energy_per_tx*1e-9 * total_pollutants # GJ * kg/GJ → kg\n",
    "display(HTML('<h3>Values per transaction</h3>'))\n",
    "res_table_template(['kg', 'l', 'l', 'ug'], 'k',\n",
    "        fracs * kwh_per_tx,\n",
    "        [coal_kg_per_kwh * kwh_per_tx * fracs[0],\n",
    "         gas_l_per_kwh * kwh_per_tx * fracs[1],\n",
    "         oil_l_per_kwh * kwh_per_tx * fracs[2],\n",
    "         uranium_g_per_kwh * kwh_per_tx * fracs[5] * 1e6 # ug\n",
    "        ])\n",
    "pollutant_table_template(['kg', 'g', 'g', 'g', 'g'], np.multiply(pollutants_per_tx, np.array([1, 1e3, 1e3, 1e3, 1e3])))\n",
    "\n",
    "network_kw = network_power_consumption/1e3 # kW\n",
    "pollutants_per_h = network_power_consumption*1e-9*3600 * total_pollutants # GW*s * kg/GJ → kg\n",
    "display(HTML('<h3>Values per hour</h3>'))\n",
    "res_table_template(['t', 'm^3', 'hl', 'mg'], 'M',\n",
    "        fracs * network_kw * 1e-3, # MWh\n",
    "        [coal_kg_per_kwh * network_kw * fracs[0] * 1e-3, # t\n",
    "         gas_l_per_kwh * network_kw * fracs[1] * 1e-3, # m^3\n",
    "         oil_l_per_kwh * network_kw * fracs[2] * 1e-2, # hl\n",
    "         uranium_g_per_kwh * network_kw * fracs[5] * 10e3 # mg\n",
    "        ])\n",
    "pollutant_table_template(['t', 'kg', 'kg', 'kg', 'kg'], np.multiply(pollutants_per_h, np.array([1e-3, 1, 1, 1, 1])))\n",
    "\n",
    "hr_per_yr = 365.25 * 24\n",
    "display(HTML('<h3>Values per year</h3>'))\n",
    "res_table_template(['Mt', '10^3 m^3', '10^6 l', 'g'], 'G',\n",
    "        fracs * network_kw * hr_per_yr * 1e-6, # GWh\n",
    "        [coal_kg_per_kwh * hr_per_yr * network_kw * fracs[0] * 1e-6, # kt\n",
    "         gas_l_per_kwh * hr_per_yr * network_kw * fracs[1] * 1e-6, # 10^6 m^3\n",
    "         oil_l_per_kwh * hr_per_yr * network_kw * fracs[2] * 1e-6, # 10^9 l\n",
    "         uranium_g_per_kwh * hr_per_yr * network_kw * fracs[5]\n",
    "        ])\n",
    "pollutant_table_template(['kt', 'kt', 't', 't', 'kt'], np.multiply(pollutants_per_h * hr_per_yr, np.array([1e-6, 1e-6, 1e-3, 1e-3, 1e-6])))"
   ]
  }
 ],
 "metadata": {
  "kernelspec": {
   "display_name": "Python 3",
   "language": "python",
   "name": "python3"
  },
  "language_info": {
   "codemirror_mode": {
    "name": "ipython",
    "version": 3
   },
   "file_extension": ".py",
   "mimetype": "text/x-python",
   "name": "python",
   "nbconvert_exporter": "python",
   "pygments_lexer": "ipython3",
   "version": "3.4.3"
  }
 },
 "nbformat": 4,
 "nbformat_minor": 0
}
