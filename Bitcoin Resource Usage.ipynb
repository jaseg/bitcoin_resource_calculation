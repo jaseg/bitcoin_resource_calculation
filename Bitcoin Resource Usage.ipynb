{
 "cells": [
  {
   "cell_type": "markdown",
   "metadata": {},
   "source": [
    "Bitcoin Efficiency Calculations\n",
    "================="
   ]
  },
  {
   "cell_type": "code",
   "execution_count": 3,
   "metadata": {
    "collapsed": false
   },
   "outputs": [],
   "source": [
    "import requests\n",
    "import csv\n",
    "import statistics\n",
    "import time\n",
    "\n",
    "res = requests.get(\"https://api.blockchain.info/charts/hash-rate?cors=true&format=csv&lang=de\").text\n",
    "lines = list(csv.reader(res.splitlines()))\n",
    "\n",
    "# Average over the last 60 days and convert from THash/s to Hash/s\n",
    "hashrate_60d_avg = statistics.mean(float(rate_s)*1e12 for _, rate_s in lines[-60:]) # Hash/s"
   ]
  },
  {
   "cell_type": "code",
   "execution_count": 4,
   "metadata": {
    "collapsed": false
   },
   "outputs": [
    {
     "name": "stdout",
     "output_type": "stream",
     "text": [
      "Total network power consumption (estimated lower bound): 177.46252592029907 MW\n"
     ]
    }
   ],
   "source": [
    "\n",
    "# Very optimistic lower bound, ignoring older hardware, cooling etc. pp.\n",
    "power_consumption = 1375/14e12 # W/(Hash/s) → J/Hash\n",
    "\n",
    "# 1J = 1Ws → Hash/s * J/Hash = J/s = Ws/s = W\n",
    "network_power_consumption = hashrate_60d_avg * power_consumption # W\n",
    "\n",
    "print('Total network power consumption (estimated lower bound):', network_power_consumption*1e-6, 'MW')"
   ]
  },
  {
   "cell_type": "markdown",
   "metadata": {},
   "source": [
    "* https://en.bitcoin.it/wiki/Mining_hardware_comparison#cite_note-AntMinerS9-9\n",
    "* https://www.bitmaintech.com/productDetail.htm?pid=0002016052907243375530DcJIoK0654\n",
    "* https://blockchain.info/api/blockchain_api"
   ]
  },
  {
   "cell_type": "code",
   "execution_count": 5,
   "metadata": {
    "collapsed": false,
    "scrolled": true
   },
   "outputs": [],
   "source": [
    "# Fetch blockchain.info data on the last [n] blocks\n",
    "import sqlite3\n",
    "\n",
    "db = sqlite3.connect('blockinfo.db')\n",
    "db.execute('CREATE TABLE IF NOT EXISTS blockinfo (idx INTEGER, info TEXT)')\n",
    "\n",
    "def fetch_blocks(n=100): # approx. 1k blocks in 7d\n",
    "    latest = requests.get('https://blockchain.info/latestblock').json()['block_index']\n",
    "    with db as conn:\n",
    "        for idx in range(latest, latest-n, -1):\n",
    "            if conn.execute('SELECT count(1) FROM blockinfo WHERE idx=?', (idx,)).fetchone()[0] == 0:\n",
    "                print('fetching:', idx, flush=True)\n",
    "                time.sleep(1)\n",
    "                info = requests.get('https://blockchain.info/block-index/{}?format=json'.format(idx)).text\n",
    "                conn.execute('INSERT INTO blockinfo VALUES (?, ?)', (idx, info))\n",
    "#            else:\n",
    "#                print('skipping:', idx, flush=True)\n",
    "    print('done.')\n",
    "\n",
    "def blocks(lower, upper, conn=db):\n",
    "    for idx, in conn.execute('SELECT idx FROM blockinfo WHERE idx BETWEEN ? AND ? ORDER BY idx', (lower, upper)):\n",
    "        yield json.loads(conn.execute('SELECT info FROM blockinfo WHERE idx=?', (idx,)).fetchone()[0])"
   ]
  },
  {
   "cell_type": "code",
   "execution_count": 6,
   "metadata": {
    "collapsed": false,
    "scrolled": true
   },
   "outputs": [],
   "source": [
    "#fetch_blocks(1000)"
   ]
  },
  {
   "cell_type": "code",
   "execution_count": 7,
   "metadata": {
    "collapsed": false
   },
   "outputs": [
    {
     "data": {
      "text/plain": [
       "2.823744356770102"
      ]
     },
     "execution_count": 7,
     "metadata": {},
     "output_type": "execute_result"
    }
   ],
   "source": [
    "import json\n",
    "import statistics\n",
    "def avg_tx_last_n(n=1000):\n",
    "    with db as conn:\n",
    "        last_idx = db.execute('SELECT MAX(idx) FROM blockinfo').fetchone()[0]\n",
    "        data = [\n",
    "            (len(b['tx']), b['time']) for b in blocks(last_idx-n, last_idx, conn)\n",
    "        ]\n",
    "        avg_tx_per_block = statistics.mean(ntx for ntx, time in data)\n",
    "        avg_seconds_per_block = (data[-1][1] - data[0][1])/n\n",
    "    avg_tx_per_second = avg_tx_per_block / avg_seconds_per_block\n",
    "    return avg_tx_per_second\n",
    "\n",
    "avg_tx_last_1000 = avg_tx_last_n(n=1000)\n",
    "avg_tx_last_1000"
   ]
  },
  {
   "cell_type": "code",
   "execution_count": 8,
   "metadata": {
    "collapsed": false
   },
   "outputs": [
    {
     "name": "stdout",
     "output_type": "stream",
     "text": [
      "Total network energy consumption per transaction (estimated lower bound): 62.85 MJ = 17.46 kWh\n"
     ]
    }
   ],
   "source": [
    "energy_per_tx = network_power_consumption * 1 / avg_tx_last_1000 # J\n",
    "kwh_per_tx = energy_per_tx / 1000 / 3600 # Ws → Wh, Wh → kWh\n",
    "print('Total network energy consumption per transaction (estimated lower bound): {:.02f} MJ = {:.02f} kWh'.format(\n",
    "        energy_per_tx*1e-6, kwh_per_tx))"
   ]
  },
  {
   "cell_type": "code",
   "execution_count": 9,
   "metadata": {
    "collapsed": false
   },
   "outputs": [
    {
     "name": "stdout",
     "output_type": "stream",
     "text": [
      "Days an adult male could be nourished from the energy a single transaction consumes (approximated, dependent on person): 5.774360385497753\n"
     ]
    }
   ],
   "source": [
    "kcal_per_day_adult_male = 2600\n",
    "J_per_day_adult_male = 180/43 * 1000 * kcal_per_day_adult_male\n",
    "adult_males_nourished_1d_per_tx = energy_per_tx/J_per_day_adult_male\n",
    "print('Days an adult male could be nourished from the energy a single transaction consumes (approximated, dependent on person):', adult_males_nourished_1d_per_tx)"
   ]
  },
  {
   "cell_type": "markdown",
   "metadata": {},
   "source": [
    "* https://en.wikipedia.org/wiki/Calorie\n",
    "* https://en.wikipedia.org/wiki/Food_energy "
   ]
  },
  {
   "cell_type": "code",
   "execution_count": 10,
   "metadata": {
    "collapsed": true
   },
   "outputs": [],
   "source": [
    "bn_info = requests.get('https://bitnodes.21.co/api/v1/snapshots/latest/').json()"
   ]
  },
  {
   "cell_type": "code",
   "execution_count": 11,
   "metadata": {
    "collapsed": false
   },
   "outputs": [
    {
     "name": "stdout",
     "output_type": "stream",
     "text": [
      "[('US', 0.27481196110805356), ('DE', 0.17262887543569988), ('FR', 0.08145294441386902), ('NL', 0.05723720418271877), ('CA', 0.043845166024582646), ('GB', 0.043478260869565216), (None, 0.033571821684094665), ('CN', 0.03265455879655109), ('RU', 0.028985507246376812), ('CH', 0.016877637130801686)] 0.7855439368923133\n"
     ]
    }
   ],
   "source": [
    "import collections\n",
    "countries = collections.Counter()\n",
    "total_nodes = bn_info['total_nodes']\n",
    "for pver, uagent, conntime, svcs, height, host, city, country, lat, lon, tz, asn, org in bn_info['nodes'].values():\n",
    "    countries[country] += 1\n",
    "country_fractions = [ (country, count/total_nodes) for country, count in countries.most_common() ]\n",
    "cf_idx = 10\n",
    "print(country_fractions[:cf_idx], sum(frac for country, frac in country_fractions[:cf_idx]))"
   ]
  },
  {
   "cell_type": "markdown",
   "metadata": {},
   "source": [
    "* https://bitnodes.21.co/api/"
   ]
  },
  {
   "cell_type": "code",
   "execution_count": 12,
   "metadata": {
    "collapsed": false
   },
   "outputs": [],
   "source": [
    "import csv\n",
    "\n",
    "iso_3166_data = requests.get('http://www.iso.org/iso/home/standards/country_codes/country_names_and_code_elements_txt-temp.htm')\n",
    "iso_3166_data = iso_3166_data.text.splitlines()[1:-1]\n",
    "iso_3166_1_alpha_2_to_name = {\n",
    "    cc.lower(): name.lower() for name, cc in ( line.split(';') for line in iso_3166_data )\n",
    "}"
   ]
  },
  {
   "cell_type": "markdown",
   "metadata": {},
   "source": [
    "* https://en.wikipedia.org/wiki/ISO_3166-1_alpha-2"
   ]
  },
  {
   "cell_type": "code",
   "execution_count": 13,
   "metadata": {
    "collapsed": false
   },
   "outputs": [],
   "source": [
    "from bs4 import BeautifulSoup\n",
    "\n",
    "#energy_by_coutry_xls = requests.get('http://www.iea.org/media/statistics/surveys/electricity/mes.xls').content\n",
    "energy_by_coutry_table = requests.get('http://wdi.worldbank.org/AjaxDownload/FileDownloadHandler.ashx?filename=3.7_Electricity_production_sources_and_access.xls&filetype=excel').content\n",
    "# don't ask why, but the above link actually returns readable html. And who am I to complain that I get HTML to parse instead of an Excel file? =)\n",
    "soup = BeautifulSoup(energy_by_coutry_table, 'lxml')\n",
    "tbody = soup.find('tbody') # data table body\n",
    "energy_by_country = {\n",
    "    cname.text.lower(): [ float(col.text.replace(',', ''))/100 if col.text != '..' else None for col in numbers ]\n",
    "            for cname, *numbers in ( row.find_all('td') for row in tbody.find_all('tr') )\n",
    "}"
   ]
  },
  {
   "cell_type": "markdown",
   "metadata": {},
   "source": [
    "* http://wdi.worldbank.org/table/3.7#"
   ]
  },
  {
   "cell_type": "code",
   "execution_count": 14,
   "metadata": {
    "collapsed": false
   },
   "outputs": [],
   "source": [
    "import numpy as np\n",
    "from IPython.display import display, HTML\n",
    "\n",
    "fracs = np.zeros(6, dtype=np.float) # coal, gas, oil, hydro, renewable, nuclear\n",
    "accounted_total = 0\n",
    "for cc, frac_total in country_fractions:\n",
    "    if cc is None:\n",
    "        break\n",
    "    twh_total, *cfracs, access = energy_by_country[iso_3166_1_alpha_2_to_name[cc.lower()]]\n",
    "    accounted_total += frac_total\n",
    "    fracs += np.array(cfracs)*frac_total\n",
    "fracs /= accounted_total"
   ]
  },
  {
   "cell_type": "code",
   "execution_count": 15,
   "metadata": {
    "collapsed": false,
    "scrolled": true
   },
   "outputs": [
    {
     "data": {
      "text/html": [
       "<table><tr><th>Network proportion taken into consideration</th><th>Coal</th><th>Gas</th><th>Oil</th><th>Hydro</th><th>Renewable</th><th>Nuclear</th></tr><tr><td>67.35%</td><td>34.17%</td><td>21.25%</td><td>0.92%</td><td>9.02%</td><td>10.49%</td><td>23.40%</td></tr></table>"
      ],
      "text/plain": [
       "<IPython.core.display.HTML object>"
      ]
     },
     "metadata": {},
     "output_type": "display_data"
    }
   ],
   "source": [
    "display(HTML('<table><tr><th>Network proportion taken into consideration</th><th>Coal</th><th>Gas</th><th>Oil</th><th>Hydro</th><th>Renewable</th><th>Nuclear</th></tr>'\n",
    "        '<tr><td>{:.02f}%</td><td>'.format(accounted_total*100) +\\\n",
    "        '</td><td>'.join('{:.02f}%'.format(x*100) for x in fracs) + '</td></tr></table>'))"
   ]
  },
  {
   "cell_type": "code",
   "execution_count": 16,
   "metadata": {
    "collapsed": true
   },
   "outputs": [],
   "source": [
    "coal_kg_per_kwh = 1.04 * 0.45359237 # kg\n",
    "gas_l_per_kwh = 0.01011 * 28.316846592 # l\n",
    "oil_l_per_kwh = 0.00173 * 119.240471196 # l\n",
    "uranium_g_per_kwh = 1/50 /24 *1e-3"
   ]
  },
  {
   "cell_type": "markdown",
   "metadata": {},
   "source": [
    "* https://www.eia.gov/tools/faqs/faq.cfm?id=667&t=3\n",
    "* https://en.wikipedia.org/wiki/United_States_customary_units#Fluid_volume\n",
    "* https://en.wikipedia.org/wiki/Cubic_foot\n",
    "* https://en.wikipedia.org/wiki/Pound_(mass)\n",
    "* http://www.eea.europa.eu/data-and-maps/indicators/nuclear-energy-and-waste-production/nuclear-energy-and-waste-production-3"
   ]
  },
  {
   "cell_type": "code",
   "execution_count": 17,
   "metadata": {
    "collapsed": true
   },
   "outputs": [],
   "source": [
    "# g/GJ: CO2, SO2, NOX, CO, particulate matter\n",
    "pollutants_coal = np.array([94600, 765, 292, 89.1, 1203])\n",
    "pollutants_oil = np.array([77400, 1350, 195, 15.7, 16])\n",
    "pollutants_gas = np.array([56100, 0.68, 93.3, 14.5, 0.1])"
   ]
  },
  {
   "cell_type": "markdown",
   "metadata": {},
   "source": [
    "* https://en.wikipedia.org/wiki/Fossil-fuel_power_station#Environmental_impacts"
   ]
  },
  {
   "cell_type": "code",
   "execution_count": 18,
   "metadata": {
    "collapsed": false,
    "scrolled": true
   },
   "outputs": [
    {
     "data": {
      "text/html": [
       "<h3>Values per transaction</h3>"
      ],
      "text/plain": [
       "<IPython.core.display.HTML object>"
      ]
     },
     "metadata": {},
     "output_type": "display_data"
    },
    {
     "data": {
      "text/html": [
       "\n",
       "<table><tr><th colspan=2>Coal</th><th colspan=2>Gas</th><th colspan=2>Oil</th><th colspan=2>Nuclear</th><th>Hydro</th><th>Renewable</th></tr>\n",
       "<tr><th>kWh</th><th>kg</th><th>kWh</th><th>l</th><th>kWh</th><th>ml</th><th>kWh</th><th>ug Uranium</th><th>kWh</th><th>kWh</th></tr>\n",
       "<tr><td>5.97</td><td>2.81</td>\n",
       "<td>3.71</td><td>1.06</td>\n",
       "<td>0.16</td><td>33.00</td>\n",
       "<td>4.08</td><td>3.40</td>\n",
       "<td>1.83</td>\n",
       "<td>1.58</td>\n",
       "</tr></table>\n"
      ],
      "text/plain": [
       "<IPython.core.display.HTML object>"
      ]
     },
     "metadata": {},
     "output_type": "display_data"
    },
    {
     "data": {
      "text/html": [
       "\n",
       "<table><tr><th>CO_2</th><th>SO_2</th><th>NO_x</th><th>CO</th><th>Particulate matter</th></tr>\n",
       "<tr><td>2.83kg</td>\n",
       "<td>17.21g</td>\n",
       "<td>7.63g</td>\n",
       "<td>2.12g</td>\n",
       "<td>25.84g</td>\n",
       "</tr></table>\n"
      ],
      "text/plain": [
       "<IPython.core.display.HTML object>"
      ]
     },
     "metadata": {},
     "output_type": "display_data"
    },
    {
     "data": {
      "text/html": [
       "<h3>Values per hour</h3>"
      ],
      "text/plain": [
       "<IPython.core.display.HTML object>"
      ]
     },
     "metadata": {},
     "output_type": "display_data"
    },
    {
     "data": {
      "text/html": [
       "\n",
       "<table><tr><th colspan=2>Coal</th><th colspan=2>Gas</th><th colspan=2>Oil</th><th colspan=2>Nuclear</th><th>Hydro</th><th>Renewable</th></tr>\n",
       "<tr><th>MWh</th><th>t</th><th>MWh</th><th>m^3</th><th>MWh</th><th>hl</th><th>MWh</th><th>mg Uranium</th><th>MWh</th><th>MWh</th></tr>\n",
       "<tr><td>60.64</td><td>28.61</td>\n",
       "<td>37.71</td><td>10.80</td>\n",
       "<td>1.63</td><td>3.35</td>\n",
       "<td>41.52</td><td>34.60</td>\n",
       "<td>18.61</td>\n",
       "<td>16.01</td>\n",
       "</tr></table>\n"
      ],
      "text/plain": [
       "<IPython.core.display.HTML object>"
      ]
     },
     "metadata": {},
     "output_type": "display_data"
    },
    {
     "data": {
      "text/html": [
       "\n",
       "<table><tr><th>CO_2</th><th>SO_2</th><th>NO_x</th><th>CO</th><th>Particulate matter</th></tr>\n",
       "<tr><td>28.72t</td>\n",
       "<td>175.00kg</td>\n",
       "<td>77.55kg</td>\n",
       "<td>21.51kg</td>\n",
       "<td>262.72kg</td>\n",
       "</tr></table>\n"
      ],
      "text/plain": [
       "<IPython.core.display.HTML object>"
      ]
     },
     "metadata": {},
     "output_type": "display_data"
    },
    {
     "data": {
      "text/html": [
       "<h3>Values per year</h3>"
      ],
      "text/plain": [
       "<IPython.core.display.HTML object>"
      ]
     },
     "metadata": {},
     "output_type": "display_data"
    },
    {
     "data": {
      "text/html": [
       "\n",
       "<table><tr><th colspan=2>Coal</th><th colspan=2>Gas</th><th colspan=2>Oil</th><th colspan=2>Nuclear</th><th>Hydro</th><th>Renewable</th></tr>\n",
       "<tr><th>GWh</th><th>Mt</th><th>GWh</th><th>10^3 m^3</th><th>GWh</th><th>10^6 l</th><th>GWh</th><th>g Uranium</th><th>GWh</th><th>GWh</th></tr>\n",
       "<tr><td>531.57</td><td>250.76</td>\n",
       "<td>330.57</td><td>94.64</td>\n",
       "<td>14.26</td><td>2.94</td>\n",
       "<td>363.96</td><td>303.30</td>\n",
       "<td>163.15</td>\n",
       "<td>140.38</td>\n",
       "</tr></table>\n"
      ],
      "text/plain": [
       "<IPython.core.display.HTML object>"
      ]
     },
     "metadata": {},
     "output_type": "display_data"
    },
    {
     "data": {
      "text/html": [
       "\n",
       "<table><tr><th>CO_2</th><th>SO_2</th><th>NO_x</th><th>CO</th><th>Particulate matter</th></tr>\n",
       "<tr><td>251.76kt</td>\n",
       "<td>1.53kt</td>\n",
       "<td>679.82t</td>\n",
       "<td>188.57t</td>\n",
       "<td>2.30kt</td>\n",
       "</tr></table>\n"
      ],
      "text/plain": [
       "<IPython.core.display.HTML object>"
      ]
     },
     "metadata": {},
     "output_type": "display_data"
    }
   ],
   "source": [
    "def res_table_template(units, wh_prefix, wh_vals, x_values):\n",
    "    u_coal, u_gas, u_oil, u_nuclear = units\n",
    "    wh_coal, wh_gas, wh_oil, wh_hydro, wh_renewable, wh_nuclear = wh_vals\n",
    "    x_coal, x_gas, x_oil, x_nuclear = x_values\n",
    "    wh = wh_prefix+'Wh'\n",
    "    display(HTML('''\n",
    "<table><tr><th colspan=2>Coal</th><th colspan=2>Gas</th><th colspan=2>Oil</th><th colspan=2>Nuclear</th><th>Hydro</th><th>Renewable</th></tr>\n",
    "<tr><th>{wh}</th><th>{u_coal}</th><th>{wh}</th><th>{u_gas}</th><th>{wh}</th><th>{u_oil}</th><th>{wh}</th><th>{u_nuclear} Uranium</th><th>{wh}</th><th>{wh}</th></tr>\n",
    "<tr><td>{wh_coal:.02f}</td><td>{x_coal:.02f}</td>\n",
    "<td>{wh_gas:.02f}</td><td>{x_gas:.02f}</td>\n",
    "<td>{wh_oil:.02f}</td><td>{x_oil:.02f}</td>\n",
    "<td>{wh_nuclear:.02f}</td><td>{x_nuclear:.02f}</td>\n",
    "<td>{wh_renewable:.02f}</td>\n",
    "<td>{wh_hydro:.02f}</td>\n",
    "</tr></table>\n",
    "'''.format(**locals())))\n",
    "    \n",
    "def pollutant_table_template(units, amounts):\n",
    "    u_co2, u_so2, u_nox, u_co, u_part = units\n",
    "    x_co2, x_so2, x_nox, x_co, x_part = amounts\n",
    "    display(HTML('''\n",
    "<table><tr><th>CO_2</th><th>SO_2</th><th>NO_x</th><th>CO</th><th>Particulate matter</th></tr>\n",
    "<tr><td>{x_co2:.02f}{u_co2}</td>\n",
    "<td>{x_so2:.02f}{u_so2}</td>\n",
    "<td>{x_nox:.02f}{u_nox}</td>\n",
    "<td>{x_co:.02f}{u_co}</td>\n",
    "<td>{x_part:.02f}{u_part}</td>\n",
    "</tr></table>\n",
    "'''.format(**locals())))\n",
    "\n",
    "total_pollutants = (pollutants_coal*fracs[0] + pollutants_gas*fracs[1] + pollutants_oil*fracs[2])*1e-3 # kg/GJ\n",
    "\n",
    "pollutants_per_tx = energy_per_tx*1e-9 * total_pollutants # GJ * kg/GJ → kg\n",
    "display(HTML('<h3>Values per transaction</h3>'))\n",
    "res_table_template(['kg', 'l', 'ml', 'ug'], 'k',\n",
    "        fracs * kwh_per_tx,\n",
    "        [coal_kg_per_kwh * kwh_per_tx * fracs[0],\n",
    "         gas_l_per_kwh * kwh_per_tx * fracs[1],\n",
    "         oil_l_per_kwh * kwh_per_tx * fracs[2] * 1e3,\n",
    "         uranium_g_per_kwh * kwh_per_tx * fracs[5] * 1e6 # ug\n",
    "        ])\n",
    "pollutant_table_template(['kg', 'g', 'g', 'g', 'g'], np.multiply(pollutants_per_tx, np.array([1, 1e3, 1e3, 1e3, 1e3])))\n",
    "\n",
    "network_kw = network_power_consumption/1e3 # kW\n",
    "pollutants_per_h = network_power_consumption*1e-9*3600 * total_pollutants # GW*s * kg/GJ → kg\n",
    "display(HTML('<h3>Values per hour</h3>'))\n",
    "res_table_template(['t', 'm^3', 'hl', 'mg'], 'M',\n",
    "        fracs * network_kw * 1e-3, # MWh\n",
    "        [coal_kg_per_kwh * network_kw * fracs[0] * 1e-3, # t\n",
    "         gas_l_per_kwh * network_kw * fracs[1] * 1e-3, # m^3\n",
    "         oil_l_per_kwh * network_kw * fracs[2] * 1e-2, # hl\n",
    "         uranium_g_per_kwh * network_kw * fracs[5] * 1e3 # mg\n",
    "        ])\n",
    "pollutant_table_template(['t', 'kg', 'kg', 'kg', 'kg'], np.multiply(pollutants_per_h, np.array([1e-3, 1, 1, 1, 1])))\n",
    "\n",
    "hr_per_yr = 365.25 * 24\n",
    "display(HTML('<h3>Values per year</h3>'))\n",
    "res_table_template(['Mt', '10^3 m^3', '10^6 l', 'g'], 'G',\n",
    "        fracs *  network_kw * hr_per_yr* 1e-6, # GWh\n",
    "        [coal_kg_per_kwh * hr_per_yr * network_kw * fracs[0] * 1e-6, # kt\n",
    "         gas_l_per_kwh * hr_per_yr * network_kw * fracs[1] * 1e-6, # 10^6 m^3\n",
    "         oil_l_per_kwh * hr_per_yr * network_kw * fracs[2] * 1e-6, # 10^9 l\n",
    "         uranium_g_per_kwh * hr_per_yr * network_kw * fracs[5]\n",
    "        ])\n",
    "pollutant_table_template(['kt', 'kt', 't', 't', 'kt'], np.multiply(pollutants_per_h * hr_per_yr, np.array([1e-6, 1e-6, 1e-3, 1e-3, 1e-6])))"
   ]
  },
  {
   "cell_type": "code",
   "execution_count": 23,
   "metadata": {
    "collapsed": false
   },
   "outputs": [
    {
     "data": {
      "text/plain": [
       "1555.6365022173418"
      ]
     },
     "execution_count": 23,
     "metadata": {},
     "output_type": "execute_result"
    }
   ],
   "source": [
    "network_kw * hr_per_yr* 1e-6 # GWh per Year"
   ]
  },
  {
   "cell_type": "code",
   "execution_count": 19,
   "metadata": {
    "collapsed": false,
    "scrolled": true
   },
   "outputs": [
    {
     "data": {
      "text/plain": [
       "243971.5124249368"
      ]
     },
     "execution_count": 19,
     "metadata": {},
     "output_type": "execute_result"
    }
   ],
   "source": [
    "tx_per_d = avg_tx_last_1000 * 3600 * 24\n",
    "tx_per_d"
   ]
  },
  {
   "cell_type": "code",
   "execution_count": 20,
   "metadata": {
    "collapsed": false
   },
   "outputs": [
    {
     "data": {
      "text/plain": [
       "(2.3942313410284384, 2.3947325625282923)"
      ]
     },
     "execution_count": 20,
     "metadata": {},
     "output_type": "execute_result"
    }
   ],
   "source": [
    "sum_inputs, sum_outputs, tx_count = 0, 0, 0\n",
    "history_size = 1000\n",
    "with db as conn:\n",
    "    last_idx = db.execute('SELECT MAX(idx) FROM blockinfo').fetchone()[0]\n",
    "    for b in blocks(last_idx-history_size, last_idx, conn):\n",
    "        for tx in b['tx']:\n",
    "            sum_inputs += len(tx['inputs'])\n",
    "            sum_outputs += len(tx['out'])\n",
    "            tx_count += 1\n",
    "# Note: We don't need more precise statistical modelling here as we only want to do a load simulation, and for that the average value is all that matters.\n",
    "avg_inputs = sum_inputs / tx_count\n",
    "avg_outputs = sum_outputs / tx_count\n",
    "avg_inputs, avg_outputs"
   ]
  },
  {
   "cell_type": "code",
   "execution_count": 21,
   "metadata": {
    "collapsed": false
   },
   "outputs": [
    {
     "name": "stdout",
     "output_type": "stream",
     "text": [
      "Populating test database...\n",
      "done.\n",
      "Running test...\n",
      "done. 4004.90 tx/s\n"
     ]
    }
   ],
   "source": [
    "import sqlite3\n",
    "class TransactionSimulation:\n",
    "    def __init__(self, filename='/tmp/btc_tx_sim.db'):\n",
    "        self.simdb = sqlite3.connect(filename)\n",
    "        self.simdb.isolation_level = 'EXCLUSIVE'\n",
    "\n",
    "    def populate_db(self, n_accounts, max_acct_val=1e12):\n",
    "        chunk_size = int(min(100, n_acc))\n",
    "        with self.simdb as conn:\n",
    "            conn.execute('DROP TABLE IF EXISTS accounts')\n",
    "            conn.execute('DROP TABLE IF EXISTS tx_meta')\n",
    "            conn.execute('DROP TABLE IF EXISTS tx_xfer')\n",
    "            conn.execute('CREATE TABLE accounts (metadata BLOB, balance INTEGER '\n",
    "                         'CHECK(balance >= 0))')\n",
    "            conn.execute('CREATE TABLE tx_meta (metadata BLOB)')\n",
    "            conn.execute('CREATE TABLE tx_xfer (amount INTEGER, acct_id INTEGER, tx_meta_id INTEGER,'\n",
    "                         'FOREIGN KEY(tx_meta_id) REFERENCES tx_meta(rowid),'\n",
    "                         'FOREIGN KEY (acct_id) REFERENCES accounts(rowid))')\n",
    "            conn.executemany('INSERT INTO accounts VALUES (?, ?)',\n",
    "                    [ (np.random.bytes(64), np.random.randint(max_acct_val)) for _ in range(n_accounts) ])\n",
    "    \n",
    "    def execute_tx(self, inputs, outputs):\n",
    "        with self.simdb as conn:\n",
    "            try:\n",
    "                cur = conn.cursor()\n",
    "                cur.execute('INSERT INTO tx_meta VALUES (?)', (np.random.bytes(64),))\n",
    "                tx_id = cur.lastrowid\n",
    "                balance = 0\n",
    "\n",
    "                for val, acct_id in inputs:\n",
    "                    cur.execute('UPDATE accounts SET balance = balance - ? WHERE rowid=?', (val, acct_id))\n",
    "                    cur.execute('INSERT INTO tx_xfer VALUES (?, ?, ?)', (val, acct_id, tx_id))\n",
    "                    balance += val\n",
    "\n",
    "                for val, acct_id in outputs:\n",
    "                    cur.execute('UPDATE accounts SET balance = balance + ? WHERE rowid=?', (val, acct_id))\n",
    "                    cur.execute('INSERT INTO tx_xfer VALUES (?, ?, ?)', (-val, acct_id, tx_id))\n",
    "                    balance -= val\n",
    "\n",
    "                if balance != 0:\n",
    "                    raise ValueError('tx does not tally up')\n",
    "            except:\n",
    "                conn.rollback()\n",
    "                raise\n",
    "\n",
    "    def sim_tx(self, size_sim, avg_inputs=2.4, avg_outputs=2.4, max_tx_item=1e10, zipf_a=1.05):\n",
    "        poisson_in = np.random.poisson(avg_inputs-1, size_sim)\n",
    "        poisson_out = np.random.poisson(avg_outputs-1, size_sim)\n",
    "        for n_in, n_out in zip(poisson_in, poisson_out):\n",
    "            n_in, n_out = n_in + 1, n_out + 1\n",
    "            \n",
    "            inputs = np.random.zipf(zipf_a, n_in)\n",
    "            outputs = np.random.zipf(zipf_a, n_out)\n",
    "            vals_in = np.random.randint(1, max_tx_item, n_in)\n",
    "            volume = sum(vals_in)\n",
    "            # This is slightly skewed, but we don't care as this is only a toy anyway.\n",
    "            dist_out = np.random.rand(n_out+1)\n",
    "            np.sort(dist_out)\n",
    "            dist_out[0], dist_out[-1] = 0.0, 1.0\n",
    "            dist_out *= volume\n",
    "            dist_out = dist_out.astype(np.int)\n",
    "            vals_out = dist_out[1:] - dist_out[:-1]\n",
    "            \n",
    "            try:\n",
    "                self.execute_tx(zip(vals_in, inputs), zip(vals_out, outputs))\n",
    "            except:\n",
    "                continue\n",
    "                # for debugging\n",
    "                print(inputs)\n",
    "                print(vals_in)\n",
    "                print(outputs)\n",
    "                print(vals_out)\n",
    "                print(sum(vals_in), sum(vals_out))\n",
    "                raise\n",
    "\n",
    "sim = TransactionSimulation()\n",
    "size_sim = int(tx_per_d)\n",
    "\n",
    "print('Populating test database...', flush=True)\n",
    "#sim.populate_db(size_sim*5)\n",
    "print('done.', flush=True)\n",
    "\n",
    "print('Running test...', flush=True)\n",
    "time_start = time.time()\n",
    "sim.sim_tx(size_sim, avg_inputs, avg_outputs)\n",
    "time_end = time.time()\n",
    "test_tx_per_s = size_sim/(time_end-time_start)\n",
    "print('done. {:.02f} tx/s'.format(test_tx_per_s))"
   ]
  },
  {
   "cell_type": "code",
   "execution_count": 22,
   "metadata": {
    "collapsed": false
   },
   "outputs": [
    {
     "name": "stdout",
     "output_type": "stream",
     "text": [
      "speedup: 1,418\n",
      "power consumption: 0.37ppm\n",
      "efficiency: 3,872,216,511x\n"
     ]
    }
   ],
   "source": [
    "import locale\n",
    "locale.setlocale(locale.LC_ALL, 'en_US')\n",
    "\n",
    "speed_factor = (test_tx_per_s / avg_tx_last_1000)\n",
    "power_factor = (65 / network_power_consumption)\n",
    "efficiency_factor = speed_factor / power_factor\n",
    "\n",
    "print('speedup:', locale.format('%d', speed_factor, grouping=True))\n",
    "print('power consumption: {:.02f}ppm'.format(power_factor*1e6))\n",
    "print('efficiency:', locale.format('%d', efficiency_factor, grouping=True)+'x')"
   ]
  }
 ],
 "metadata": {
  "kernelspec": {
   "display_name": "Python 3",
   "language": "python",
   "name": "python3"
  },
  "language_info": {
   "codemirror_mode": {
    "name": "ipython",
    "version": 3
   },
   "file_extension": ".py",
   "mimetype": "text/x-python",
   "name": "python",
   "nbconvert_exporter": "python",
   "pygments_lexer": "ipython3",
   "version": "3.4.3"
  }
 },
 "nbformat": 4,
 "nbformat_minor": 0
}
